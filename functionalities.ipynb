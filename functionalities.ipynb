{
 "cells": [
  {
   "cell_type": "code",
   "execution_count": 1,
   "metadata": {},
   "outputs": [
    {
     "ename": "KeyboardInterrupt",
     "evalue": "",
     "output_type": "error",
     "traceback": [
      "\u001b[0;31m---------------------------------------------------------------------------\u001b[0m",
      "\u001b[0;31mKeyboardInterrupt\u001b[0m                         Traceback (most recent call last)",
      "Cell \u001b[0;32mIn[1], line 9\u001b[0m\n\u001b[1;32m      6\u001b[0m ser\u001b[38;5;241m.\u001b[39mflush()\n\u001b[1;32m      8\u001b[0m \u001b[38;5;28;01mwhile\u001b[39;00m \u001b[38;5;28;01mTrue\u001b[39;00m:\n\u001b[0;32m----> 9\u001b[0m     \u001b[38;5;28;01mif\u001b[39;00m \u001b[43mser\u001b[49m\u001b[38;5;241;43m.\u001b[39;49m\u001b[43min_waiting\u001b[49m \u001b[38;5;241m>\u001b[39m \u001b[38;5;241m0\u001b[39m:\n\u001b[1;32m     10\u001b[0m         line \u001b[38;5;241m=\u001b[39m ser\u001b[38;5;241m.\u001b[39mreadline()\u001b[38;5;241m.\u001b[39mdecode(\u001b[38;5;124m'\u001b[39m\u001b[38;5;124mutf-8\u001b[39m\u001b[38;5;124m'\u001b[39m)\u001b[38;5;241m.\u001b[39mrstrip()\n\u001b[1;32m     11\u001b[0m         \u001b[38;5;28mprint\u001b[39m(\u001b[38;5;124mf\u001b[39m\u001b[38;5;124m\"\u001b[39m\u001b[38;5;124mCard Number: \u001b[39m\u001b[38;5;132;01m{\u001b[39;00mline\u001b[38;5;132;01m}\u001b[39;00m\u001b[38;5;124m\"\u001b[39m)\n",
      "File \u001b[0;32m~/Documents/ProgProjects/hackathons.nosync/Elsys2024/IES-Hackathon-24-/venv/lib/python3.10/site-packages/serial/serialposix.py:549\u001b[0m, in \u001b[0;36mSerial.in_waiting\u001b[0;34m(self)\u001b[0m\n\u001b[1;32m    547\u001b[0m \u001b[38;5;250m\u001b[39m\u001b[38;5;124;03m\"\"\"Return the number of bytes currently in the input buffer.\"\"\"\u001b[39;00m\n\u001b[1;32m    548\u001b[0m \u001b[38;5;66;03m#~ s = fcntl.ioctl(self.fd, termios.FIONREAD, TIOCM_zero_str)\u001b[39;00m\n\u001b[0;32m--> 549\u001b[0m s \u001b[38;5;241m=\u001b[39m \u001b[43mfcntl\u001b[49m\u001b[38;5;241;43m.\u001b[39;49m\u001b[43mioctl\u001b[49m\u001b[43m(\u001b[49m\u001b[38;5;28;43mself\u001b[39;49m\u001b[38;5;241;43m.\u001b[39;49m\u001b[43mfd\u001b[49m\u001b[43m,\u001b[49m\u001b[43m \u001b[49m\u001b[43mTIOCINQ\u001b[49m\u001b[43m,\u001b[49m\u001b[43m \u001b[49m\u001b[43mTIOCM_zero_str\u001b[49m\u001b[43m)\u001b[49m\n\u001b[1;32m    550\u001b[0m \u001b[38;5;28;01mreturn\u001b[39;00m struct\u001b[38;5;241m.\u001b[39munpack(\u001b[38;5;124m'\u001b[39m\u001b[38;5;124mI\u001b[39m\u001b[38;5;124m'\u001b[39m, s)[\u001b[38;5;241m0\u001b[39m]\n",
      "\u001b[0;31mKeyboardInterrupt\u001b[0m: "
     ]
    }
   ],
   "source": [
    "import serial\n",
    "import time\n",
    "\n",
    "# Replace '/dev/ttyUSB0' with your ESP32-S2's serial port\n",
    "ser = serial.Serial('/dev/cu.usbserial-2130', 9600, timeout=1)\n",
    "ser.flush()\n",
    "\n",
    "while True:\n",
    "    if ser.in_waiting > 0:\n",
    "        line = ser.readline().decode('utf-8').rstrip()\n",
    "        # Check if line contains \"In dec:\"\n",
    "        if \"In dec:\" in line:\n",
    "            # Extract the decimal values\n",
    "            dec_values = line.split(\"In dec: \")[1]\n",
    "            print(f\"Card Number (Decimal): {dec_values}\")\n",
    "            # Process the decimal values as needed"
   ]
  },
  {
   "cell_type": "code",
   "execution_count": null,
   "metadata": {},
   "outputs": [
    {
     "ename": "NoBackendError",
     "evalue": "No backend available",
     "output_type": "error",
     "traceback": [
      "\u001b[0;31m---------------------------------------------------------------------------\u001b[0m",
      "\u001b[0;31mNoBackendError\u001b[0m                            Traceback (most recent call last)",
      "Cell \u001b[0;32mIn[1], line 5\u001b[0m\n\u001b[1;32m      2\u001b[0m \u001b[38;5;28;01mimport\u001b[39;00m \u001b[38;5;21;01musb\u001b[39;00m\u001b[38;5;21;01m.\u001b[39;00m\u001b[38;5;21;01mutil\u001b[39;00m\n\u001b[1;32m      4\u001b[0m \u001b[38;5;66;03m# Find all devices\u001b[39;00m\n\u001b[0;32m----> 5\u001b[0m devices \u001b[38;5;241m=\u001b[39m \u001b[43musb\u001b[49m\u001b[38;5;241;43m.\u001b[39;49m\u001b[43mcore\u001b[49m\u001b[38;5;241;43m.\u001b[39;49m\u001b[43mfind\u001b[49m\u001b[43m(\u001b[49m\u001b[43mfind_all\u001b[49m\u001b[38;5;241;43m=\u001b[39;49m\u001b[38;5;28;43;01mTrue\u001b[39;49;00m\u001b[43m)\u001b[49m\n\u001b[1;32m      7\u001b[0m \u001b[38;5;66;03m# Print details of each device\u001b[39;00m\n\u001b[1;32m      8\u001b[0m \u001b[38;5;28;01mfor\u001b[39;00m device \u001b[38;5;129;01min\u001b[39;00m devices:\n",
      "File \u001b[0;32m~/Documents/ProgProjects/hackathons.nosync/Elsys2024/IES-Hackathon-24-/venv/lib/python3.10/site-packages/usb/core.py:1309\u001b[0m, in \u001b[0;36mfind\u001b[0;34m(find_all, backend, custom_match, **args)\u001b[0m\n\u001b[1;32m   1307\u001b[0m             \u001b[38;5;28;01mbreak\u001b[39;00m\n\u001b[1;32m   1308\u001b[0m     \u001b[38;5;28;01melse\u001b[39;00m:\n\u001b[0;32m-> 1309\u001b[0m         \u001b[38;5;28;01mraise\u001b[39;00m NoBackendError(\u001b[38;5;124m'\u001b[39m\u001b[38;5;124mNo backend available\u001b[39m\u001b[38;5;124m'\u001b[39m)\n\u001b[1;32m   1311\u001b[0m \u001b[38;5;28;01mif\u001b[39;00m find_all:\n\u001b[1;32m   1312\u001b[0m     \u001b[38;5;28;01mreturn\u001b[39;00m device_iter(\u001b[38;5;241m*\u001b[39m\u001b[38;5;241m*\u001b[39margs)\n",
      "\u001b[0;31mNoBackendError\u001b[0m: No backend available"
     ]
    }
   ],
   "source": [
    "import usb.core\n",
    "import usb.util\n",
    "\n",
    "# Find all devices\n",
    "devices = usb.core.find(find_all=True)\n",
    "\n",
    "# Print details of each device\n",
    "for device in devices:\n",
    "    print(f\"Device: {device}\")\n",
    "    print(f\"  Vendor ID: {device.idVendor:04x}\")\n",
    "    print(f\"  Product ID: {device.idProduct:04x}\")\n",
    "    print(f\"  Manufacturer: {usb.util.get_string(device, device.iManufacturer)}\")\n",
    "    print(f\"  Product: {usb.util.get_string(device, device.iProduct)}\")\n",
    "    print(f\"  Serial Number: {usb.util.get_string(device, device.iSerialNumber)}\\n\")\n"
   ]
  }
 ],
 "metadata": {
  "kernelspec": {
   "display_name": "venv",
   "language": "python",
   "name": "python3"
  },
  "language_info": {
   "codemirror_mode": {
    "name": "ipython",
    "version": 3
   },
   "file_extension": ".py",
   "mimetype": "text/x-python",
   "name": "python",
   "nbconvert_exporter": "python",
   "pygments_lexer": "ipython3",
   "version": "3.10.10"
  }
 },
 "nbformat": 4,
 "nbformat_minor": 2
}
